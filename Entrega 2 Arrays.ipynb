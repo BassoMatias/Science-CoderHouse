{
 "cells": [
  {
   "cell_type": "code",
   "execution_count": 1,
   "id": "f5e3e473",
   "metadata": {},
   "outputs": [],
   "source": [
    "import numpy as np"
   ]
  },
  {
   "cell_type": "code",
   "execution_count": null,
   "id": "59f48d85",
   "metadata": {},
   "outputs": [],
   "source": [
    "# Consigna 1 Array aleatorio y mediana"
   ]
  },
  {
   "cell_type": "code",
   "execution_count": 2,
   "id": "d9138b63",
   "metadata": {},
   "outputs": [
    {
     "name": "stdout",
     "output_type": "stream",
     "text": [
      "[38 31 96 14  7 95 70  4 28 25 90 34 98  6 71 86 35 91 40 95 79  9 18 83\n",
      "  5  0 32 19  6 19  2 47 50 24  5 47 47 91 92 70 31 75 78 49 57 88 52 11\n",
      " 20 41  9 92 92 10  9 84 61 98  5 67 18 25 21 48 44  8 92 14 50 57 27 12\n",
      " 21 50 50 36 19 65 21 69 52 86 96 79 79 78 48 41 48 13 89 26 39 52 31 41\n",
      "  0 24 64 36]\n"
     ]
    },
    {
     "data": {
      "text/plain": [
       "42.5"
      ]
     },
     "execution_count": 2,
     "metadata": {},
     "output_type": "execute_result"
    }
   ],
   "source": [
    "Npa= np.random.randint(100, size=100)\n",
    "print (Npa)\n",
    "np.median(Npa)"
   ]
  },
  {
   "cell_type": "code",
   "execution_count": 34,
   "id": "b4a2863a",
   "metadata": {},
   "outputs": [],
   "source": [
    "# Consigna 2 Calculo de suma con array"
   ]
  },
  {
   "cell_type": "code",
   "execution_count": 3,
   "id": "a5cc9025",
   "metadata": {},
   "outputs": [
    {
     "data": {
      "text/plain": [
       "95"
      ]
     },
     "execution_count": 3,
     "metadata": {},
     "output_type": "execute_result"
    }
   ],
   "source": [
    "Rango=range(5,15)\n",
    "Npa= np.array(Rango)\n",
    "Npa\n",
    "np.sum(Npa)"
   ]
  },
  {
   "cell_type": "code",
   "execution_count": 44,
   "id": "d3bf05ff",
   "metadata": {},
   "outputs": [],
   "source": [
    "# Consinga 2 Calculo factorial con array"
   ]
  },
  {
   "cell_type": "code",
   "execution_count": 4,
   "id": "8b858b37",
   "metadata": {},
   "outputs": [
    {
     "data": {
      "text/plain": [
       "120"
      ]
     },
     "execution_count": 4,
     "metadata": {},
     "output_type": "execute_result"
    }
   ],
   "source": [
    "Npa= np.array(5)\n",
    "Npa\n",
    "np.math.factorial(Npa)"
   ]
  },
  {
   "cell_type": "code",
   "execution_count": 51,
   "id": "070f4ecf",
   "metadata": {},
   "outputs": [],
   "source": [
    "# Consigna 3 Media y Mediana de sueldos netos"
   ]
  },
  {
   "cell_type": "code",
   "execution_count": 5,
   "id": "b043116d",
   "metadata": {},
   "outputs": [],
   "source": [
    "import pandas as pd"
   ]
  },
  {
   "cell_type": "code",
   "execution_count": 8,
   "id": "fb9f5a21",
   "metadata": {},
   "outputs": [
    {
     "data": {
      "text/plain": [
       "76000.0"
      ]
     },
     "execution_count": 8,
     "metadata": {},
     "output_type": "execute_result"
    }
   ],
   "source": [
    "Sueldos= pd.read_csv('C:\\\\Users\\\\Usuario\\Documents\\Coder\\Data Science\\Salarios.csv')\n",
    "Neto= pd.Series(Sueldos['Salario mensual NETO (en tu moneda local)'])\n",
    "Neto_Completo=Neto.dropna()\n",
    "Entero= pd.to_numeric(Neto_Completo, errors ='coerce', downcast ='signed')"
   ]
  },
  {
   "cell_type": "code",
   "execution_count": 9,
   "id": "722f113b",
   "metadata": {},
   "outputs": [
    {
     "data": {
      "text/plain": [
       "19306004.37798064"
      ]
     },
     "execution_count": 9,
     "metadata": {},
     "output_type": "execute_result"
    }
   ],
   "source": [
    "Entero.mean()\n",
    "\n"
   ]
  },
  {
   "cell_type": "code",
   "execution_count": 10,
   "id": "33409fd2",
   "metadata": {},
   "outputs": [
    {
     "data": {
      "text/plain": [
       "76000.0"
      ]
     },
     "execution_count": 10,
     "metadata": {},
     "output_type": "execute_result"
    }
   ],
   "source": [
    "Entero.median()\n"
   ]
  },
  {
   "cell_type": "code",
   "execution_count": null,
   "id": "0cc7aeeb",
   "metadata": {},
   "outputs": [],
   "source": []
  }
 ],
 "metadata": {
  "kernelspec": {
   "display_name": "Python 3 (ipykernel)",
   "language": "python",
   "name": "python3"
  },
  "language_info": {
   "codemirror_mode": {
    "name": "ipython",
    "version": 3
   },
   "file_extension": ".py",
   "mimetype": "text/x-python",
   "name": "python",
   "nbconvert_exporter": "python",
   "pygments_lexer": "ipython3",
   "version": "3.9.12"
  }
 },
 "nbformat": 4,
 "nbformat_minor": 5
}
