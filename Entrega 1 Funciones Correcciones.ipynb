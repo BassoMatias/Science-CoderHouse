{
 "cells": [
  {
   "cell_type": "code",
   "execution_count": null,
   "id": "6896baec",
   "metadata": {},
   "outputs": [],
   "source": [
    "# Consinga 1 Factorial de un numero #"
   ]
  },
  {
   "cell_type": "code",
   "execution_count": 104,
   "id": "33854212",
   "metadata": {},
   "outputs": [],
   "source": [
    "def factorial(n):\n",
    "    f = 1\n",
    "    for num in range(2, n+1):\n",
    "        f *= num\n",
    "    return f"
   ]
  },
  {
   "cell_type": "code",
   "execution_count": 106,
   "id": "7ad0c8e8",
   "metadata": {},
   "outputs": [
    {
     "data": {
      "text/plain": [
       "24"
      ]
     },
     "execution_count": 106,
     "metadata": {},
     "output_type": "execute_result"
    }
   ],
   "source": [
    "factorial(4)"
   ]
  },
  {
   "cell_type": "code",
   "execution_count": 36,
   "id": "b81f22b7",
   "metadata": {},
   "outputs": [],
   "source": [
    "# Consigna 2 Suma de Serie de dos numeros#"
   ]
  },
  {
   "cell_type": "code",
   "execution_count": 111,
   "id": "54a7b67e",
   "metadata": {},
   "outputs": [],
   "source": [
    "def sumatoria(a, b):\n",
    "    if a > b:\n",
    "        return 'El segundo numero debe ser mayor al primero'\n",
    "    suma = 0\n",
    "    for num in range(a, b+1):\n",
    "        suma += num\n",
    "    return suma"
   ]
  },
  {
   "cell_type": "code",
   "execution_count": 114,
   "id": "ef1335e6",
   "metadata": {},
   "outputs": [
    {
     "data": {
      "text/plain": [
       "35"
      ]
     },
     "execution_count": 114,
     "metadata": {},
     "output_type": "execute_result"
    }
   ],
   "source": [
    "sumatoria(2, 8)"
   ]
  },
  {
   "cell_type": "code",
   "execution_count": null,
   "id": "e6825d6f",
   "metadata": {},
   "outputs": [],
   "source": []
  }
 ],
 "metadata": {
  "kernelspec": {
   "display_name": "Python 3 (ipykernel)",
   "language": "python",
   "name": "python3"
  },
  "language_info": {
   "codemirror_mode": {
    "name": "ipython",
    "version": 3
   },
   "file_extension": ".py",
   "mimetype": "text/x-python",
   "name": "python",
   "nbconvert_exporter": "python",
   "pygments_lexer": "ipython3",
   "version": "3.9.7"
  }
 },
 "nbformat": 4,
 "nbformat_minor": 5
}
