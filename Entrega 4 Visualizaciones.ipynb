{
 "cells": [
  {
   "cell_type": "code",
   "execution_count": 2,
   "id": "e9b4529b",
   "metadata": {},
   "outputs": [],
   "source": [
    "import pandas as pd\n",
    "import numpy as np\n",
    "import matplotlib as mpl\n",
    "import matplotlib.pyplot as plt\n",
    "import seaborn as sns"
   ]
  },
  {
   "cell_type": "code",
   "execution_count": 11,
   "id": "28881671",
   "metadata": {},
   "outputs": [],
   "source": [
    "# Consigna 1= Estadisticas descriptivas basicas de Dataset"
   ]
  },
  {
   "cell_type": "code",
   "execution_count": 118,
   "id": "69ba86b4",
   "metadata": {},
   "outputs": [
    {
     "data": {
      "text/html": [
       "<div>\n",
       "<style scoped>\n",
       "    .dataframe tbody tr th:only-of-type {\n",
       "        vertical-align: middle;\n",
       "    }\n",
       "\n",
       "    .dataframe tbody tr th {\n",
       "        vertical-align: top;\n",
       "    }\n",
       "\n",
       "    .dataframe thead th {\n",
       "        text-align: right;\n",
       "    }\n",
       "</style>\n",
       "<table border=\"1\" class=\"dataframe\">\n",
       "  <thead>\n",
       "    <tr style=\"text-align: right;\">\n",
       "      <th></th>\n",
       "      <th>EmpID</th>\n",
       "      <th>MarriedID</th>\n",
       "      <th>MaritalStatusID</th>\n",
       "      <th>GenderID</th>\n",
       "      <th>EmpStatusID</th>\n",
       "      <th>DeptID</th>\n",
       "      <th>PerfScoreID</th>\n",
       "      <th>FromDiversityJobFairID</th>\n",
       "      <th>Salary</th>\n",
       "      <th>Termd</th>\n",
       "      <th>PositionID</th>\n",
       "      <th>Zip</th>\n",
       "      <th>ManagerID</th>\n",
       "      <th>EngagementSurvey</th>\n",
       "      <th>EmpSatisfaction</th>\n",
       "      <th>SpecialProjectsCount</th>\n",
       "      <th>DaysLateLast30</th>\n",
       "      <th>Absences</th>\n",
       "    </tr>\n",
       "  </thead>\n",
       "  <tbody>\n",
       "    <tr>\n",
       "      <th>count</th>\n",
       "      <td>311.000000</td>\n",
       "      <td>311.000000</td>\n",
       "      <td>311.000000</td>\n",
       "      <td>311.000000</td>\n",
       "      <td>311.000000</td>\n",
       "      <td>311.000000</td>\n",
       "      <td>311.000000</td>\n",
       "      <td>311.000000</td>\n",
       "      <td>311.000000</td>\n",
       "      <td>311.000000</td>\n",
       "      <td>311.000000</td>\n",
       "      <td>311.000000</td>\n",
       "      <td>303.000000</td>\n",
       "      <td>311.000000</td>\n",
       "      <td>311.000000</td>\n",
       "      <td>311.000000</td>\n",
       "      <td>311.000000</td>\n",
       "      <td>311.000000</td>\n",
       "    </tr>\n",
       "    <tr>\n",
       "      <th>mean</th>\n",
       "      <td>10156.000000</td>\n",
       "      <td>0.398714</td>\n",
       "      <td>0.810289</td>\n",
       "      <td>0.434084</td>\n",
       "      <td>2.392283</td>\n",
       "      <td>4.610932</td>\n",
       "      <td>2.977492</td>\n",
       "      <td>0.093248</td>\n",
       "      <td>69020.684887</td>\n",
       "      <td>0.334405</td>\n",
       "      <td>16.845659</td>\n",
       "      <td>6555.482315</td>\n",
       "      <td>14.570957</td>\n",
       "      <td>4.110000</td>\n",
       "      <td>3.890675</td>\n",
       "      <td>1.218650</td>\n",
       "      <td>0.414791</td>\n",
       "      <td>10.237942</td>\n",
       "    </tr>\n",
       "    <tr>\n",
       "      <th>std</th>\n",
       "      <td>89.922189</td>\n",
       "      <td>0.490423</td>\n",
       "      <td>0.943239</td>\n",
       "      <td>0.496435</td>\n",
       "      <td>1.794383</td>\n",
       "      <td>1.083487</td>\n",
       "      <td>0.587072</td>\n",
       "      <td>0.291248</td>\n",
       "      <td>25156.636930</td>\n",
       "      <td>0.472542</td>\n",
       "      <td>6.223419</td>\n",
       "      <td>16908.396884</td>\n",
       "      <td>8.078306</td>\n",
       "      <td>0.789938</td>\n",
       "      <td>0.909241</td>\n",
       "      <td>2.349421</td>\n",
       "      <td>1.294519</td>\n",
       "      <td>5.852596</td>\n",
       "    </tr>\n",
       "    <tr>\n",
       "      <th>min</th>\n",
       "      <td>10001.000000</td>\n",
       "      <td>0.000000</td>\n",
       "      <td>0.000000</td>\n",
       "      <td>0.000000</td>\n",
       "      <td>1.000000</td>\n",
       "      <td>1.000000</td>\n",
       "      <td>1.000000</td>\n",
       "      <td>0.000000</td>\n",
       "      <td>45046.000000</td>\n",
       "      <td>0.000000</td>\n",
       "      <td>1.000000</td>\n",
       "      <td>1013.000000</td>\n",
       "      <td>1.000000</td>\n",
       "      <td>1.120000</td>\n",
       "      <td>1.000000</td>\n",
       "      <td>0.000000</td>\n",
       "      <td>0.000000</td>\n",
       "      <td>1.000000</td>\n",
       "    </tr>\n",
       "    <tr>\n",
       "      <th>25%</th>\n",
       "      <td>10078.500000</td>\n",
       "      <td>0.000000</td>\n",
       "      <td>0.000000</td>\n",
       "      <td>0.000000</td>\n",
       "      <td>1.000000</td>\n",
       "      <td>5.000000</td>\n",
       "      <td>3.000000</td>\n",
       "      <td>0.000000</td>\n",
       "      <td>55501.500000</td>\n",
       "      <td>0.000000</td>\n",
       "      <td>18.000000</td>\n",
       "      <td>1901.500000</td>\n",
       "      <td>10.000000</td>\n",
       "      <td>3.690000</td>\n",
       "      <td>3.000000</td>\n",
       "      <td>0.000000</td>\n",
       "      <td>0.000000</td>\n",
       "      <td>5.000000</td>\n",
       "    </tr>\n",
       "    <tr>\n",
       "      <th>50%</th>\n",
       "      <td>10156.000000</td>\n",
       "      <td>0.000000</td>\n",
       "      <td>1.000000</td>\n",
       "      <td>0.000000</td>\n",
       "      <td>1.000000</td>\n",
       "      <td>5.000000</td>\n",
       "      <td>3.000000</td>\n",
       "      <td>0.000000</td>\n",
       "      <td>62810.000000</td>\n",
       "      <td>0.000000</td>\n",
       "      <td>19.000000</td>\n",
       "      <td>2132.000000</td>\n",
       "      <td>15.000000</td>\n",
       "      <td>4.280000</td>\n",
       "      <td>4.000000</td>\n",
       "      <td>0.000000</td>\n",
       "      <td>0.000000</td>\n",
       "      <td>10.000000</td>\n",
       "    </tr>\n",
       "    <tr>\n",
       "      <th>75%</th>\n",
       "      <td>10233.500000</td>\n",
       "      <td>1.000000</td>\n",
       "      <td>1.000000</td>\n",
       "      <td>1.000000</td>\n",
       "      <td>5.000000</td>\n",
       "      <td>5.000000</td>\n",
       "      <td>3.000000</td>\n",
       "      <td>0.000000</td>\n",
       "      <td>72036.000000</td>\n",
       "      <td>1.000000</td>\n",
       "      <td>20.000000</td>\n",
       "      <td>2355.000000</td>\n",
       "      <td>19.000000</td>\n",
       "      <td>4.700000</td>\n",
       "      <td>5.000000</td>\n",
       "      <td>0.000000</td>\n",
       "      <td>0.000000</td>\n",
       "      <td>15.000000</td>\n",
       "    </tr>\n",
       "    <tr>\n",
       "      <th>max</th>\n",
       "      <td>10311.000000</td>\n",
       "      <td>1.000000</td>\n",
       "      <td>4.000000</td>\n",
       "      <td>1.000000</td>\n",
       "      <td>5.000000</td>\n",
       "      <td>6.000000</td>\n",
       "      <td>4.000000</td>\n",
       "      <td>1.000000</td>\n",
       "      <td>250000.000000</td>\n",
       "      <td>1.000000</td>\n",
       "      <td>30.000000</td>\n",
       "      <td>98052.000000</td>\n",
       "      <td>39.000000</td>\n",
       "      <td>5.000000</td>\n",
       "      <td>5.000000</td>\n",
       "      <td>8.000000</td>\n",
       "      <td>6.000000</td>\n",
       "      <td>20.000000</td>\n",
       "    </tr>\n",
       "  </tbody>\n",
       "</table>\n",
       "</div>"
      ],
      "text/plain": [
       "              EmpID   MarriedID  MaritalStatusID    GenderID  EmpStatusID  \\\n",
       "count    311.000000  311.000000       311.000000  311.000000   311.000000   \n",
       "mean   10156.000000    0.398714         0.810289    0.434084     2.392283   \n",
       "std       89.922189    0.490423         0.943239    0.496435     1.794383   \n",
       "min    10001.000000    0.000000         0.000000    0.000000     1.000000   \n",
       "25%    10078.500000    0.000000         0.000000    0.000000     1.000000   \n",
       "50%    10156.000000    0.000000         1.000000    0.000000     1.000000   \n",
       "75%    10233.500000    1.000000         1.000000    1.000000     5.000000   \n",
       "max    10311.000000    1.000000         4.000000    1.000000     5.000000   \n",
       "\n",
       "           DeptID  PerfScoreID  FromDiversityJobFairID         Salary  \\\n",
       "count  311.000000   311.000000              311.000000     311.000000   \n",
       "mean     4.610932     2.977492                0.093248   69020.684887   \n",
       "std      1.083487     0.587072                0.291248   25156.636930   \n",
       "min      1.000000     1.000000                0.000000   45046.000000   \n",
       "25%      5.000000     3.000000                0.000000   55501.500000   \n",
       "50%      5.000000     3.000000                0.000000   62810.000000   \n",
       "75%      5.000000     3.000000                0.000000   72036.000000   \n",
       "max      6.000000     4.000000                1.000000  250000.000000   \n",
       "\n",
       "            Termd  PositionID           Zip   ManagerID  EngagementSurvey  \\\n",
       "count  311.000000  311.000000    311.000000  303.000000        311.000000   \n",
       "mean     0.334405   16.845659   6555.482315   14.570957          4.110000   \n",
       "std      0.472542    6.223419  16908.396884    8.078306          0.789938   \n",
       "min      0.000000    1.000000   1013.000000    1.000000          1.120000   \n",
       "25%      0.000000   18.000000   1901.500000   10.000000          3.690000   \n",
       "50%      0.000000   19.000000   2132.000000   15.000000          4.280000   \n",
       "75%      1.000000   20.000000   2355.000000   19.000000          4.700000   \n",
       "max      1.000000   30.000000  98052.000000   39.000000          5.000000   \n",
       "\n",
       "       EmpSatisfaction  SpecialProjectsCount  DaysLateLast30    Absences  \n",
       "count       311.000000            311.000000      311.000000  311.000000  \n",
       "mean          3.890675              1.218650        0.414791   10.237942  \n",
       "std           0.909241              2.349421        1.294519    5.852596  \n",
       "min           1.000000              0.000000        0.000000    1.000000  \n",
       "25%           3.000000              0.000000        0.000000    5.000000  \n",
       "50%           4.000000              0.000000        0.000000   10.000000  \n",
       "75%           5.000000              0.000000        0.000000   15.000000  \n",
       "max           5.000000              8.000000        6.000000   20.000000  "
      ]
     },
     "execution_count": 118,
     "metadata": {},
     "output_type": "execute_result"
    }
   ],
   "source": [
    "Dataset= pd.read_csv('C:\\\\Users\\\\Usuario\\Documents\\Coder\\Data Science\\HRDataset_v14.csv')\n",
    "Dataset.describe()"
   ]
  },
  {
   "cell_type": "code",
   "execution_count": 13,
   "id": "9ae27f2d",
   "metadata": {},
   "outputs": [],
   "source": [
    "# Consigna 2= Histograma de Salarios"
   ]
  },
  {
   "cell_type": "code",
   "execution_count": 95,
   "id": "3ef1db58",
   "metadata": {},
   "outputs": [
    {
     "data": {
      "image/png": "[encoded data removed]",
      "text/plain": [
       "<Figure size 1440x432 with 1 Axes>"
      ]
     },
     "metadata": {
      "needs_background": "light"
     },
     "output_type": "display_data"
    }
   ],
   "source": [
    "x= Dataset.EmpID\n",
    "y= Dataset.Salary\n",
    "Dataset.values.flatten()\n",
    "fig, ax = plt.subplots(figsize=(20,6))\n",
    "ax.hist(y, bins=20)\n",
    "ax.set_xlabel ('Empledado ID')\n",
    "ax.set_ylabel ('Salario')\n",
    "ax.set_title ('Salarios por Empleado')\n",
    "ax.grid(True)\n"
   ]
  },
  {
   "cell_type": "code",
   "execution_count": null,
   "id": "6e61436a",
   "metadata": {},
   "outputs": [],
   "source": [
    "# Consigna 3= Grafico de violin, salario segun genero"
   ]
  },
  {
   "cell_type": "code",
   "execution_count": 96,
   "id": "ca96440c",
   "metadata": {},
   "outputs": [
    {
     "data": {
      "text/plain": [
       "<seaborn.axisgrid.FacetGrid at 0x1cf75eafc70>"
      ]
     },
     "execution_count": 96,
     "metadata": {},
     "output_type": "execute_result"
    },
    {
     "data": {
      "image/png": "[encoded data removed]",
      "text/plain": [
       "<Figure size 360x360 with 1 Axes>"
      ]
     },
     "metadata": {
      "needs_background": "light"
     },
     "output_type": "display_data"
    }
   ],
   "source": [
    "ax = sns.catplot(data=Dataset, kind='violin', x='GenderID', y='Salary', split=True)\n",
    "ax.set(xlabel='Salario', ylabel='Empleado', title='Salario segun Genero')\n"
   ]
  },
  {
   "cell_type": "code",
   "execution_count": 97,
   "id": "56aea481",
   "metadata": {},
   "outputs": [],
   "source": [
    "# Consigna 4= Serie de tiempo de Contratacion"
   ]
  },
  {
   "cell_type": "code",
   "execution_count": 124,
   "id": "0dba4351",
   "metadata": {},
   "outputs": [
    {
     "data": {
      "text/plain": [
       "Text(0.5, 1.0, 'Años')"
      ]
     },
     "execution_count": 124,
     "metadata": {},
     "output_type": "execute_result"
    },
    {
     "data": {
      "image/png": "[encoded data removed]",
      "text/plain": [
       "<Figure size 1440x432 with 1 Axes>"
      ]
     },
     "metadata": {
      "needs_background": "light"
     },
     "output_type": "display_data"
    }
   ],
   "source": [
    "Dataset['DateofHire']= pd.DatetimeIndex(Dataset.DateofHire)\n",
    "Años=Dataset.groupby(Dataset.DateofHire.dt.year).count()[['EmpID']]\n",
    "fig, ax = plt.subplots(figsize=(20,6))\n",
    "ax.plot(Años, marker=0)\n",
    "ax.set_xlabel ('Tiempo')\n",
    "ax.set_ylabel ('Empleados')\n",
    "ax.set_title ('Años')"
   ]
  },
  {
   "cell_type": "code",
   "execution_count": null,
   "id": "8969afc0",
   "metadata": {},
   "outputs": [],
   "source": []
  }
 ],
 "metadata": {
  "kernelspec": {
   "display_name": "Python 3 (ipykernel)",
   "language": "python",
   "name": "python3"
  },
  "language_info": {
   "codemirror_mode": {
    "name": "ipython",
    "version": 3
   },
   "file_extension": ".py",
   "mimetype": "text/x-python",
   "name": "python",
   "nbconvert_exporter": "python",
   "pygments_lexer": "ipython3",
   "version": "3.9.12"
  }
 },
 "nbformat": 4,
 "nbformat_minor": 5
}
